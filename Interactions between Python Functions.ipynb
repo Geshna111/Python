{
 "cells": [
  {
   "cell_type": "code",
   "execution_count": 1,
   "id": "2db16630",
   "metadata": {},
   "outputs": [],
   "source": [
    "example=[1,2,3,4,5,6,7]"
   ]
  },
  {
   "cell_type": "code",
   "execution_count": 2,
   "id": "593caa57",
   "metadata": {},
   "outputs": [],
   "source": [
    "from random import shuffle"
   ]
  },
  {
   "cell_type": "code",
   "execution_count": 3,
   "id": "3e20a828",
   "metadata": {},
   "outputs": [],
   "source": [
    "shuffle(example)"
   ]
  },
  {
   "cell_type": "code",
   "execution_count": 4,
   "id": "25a9f1b1",
   "metadata": {},
   "outputs": [
    {
     "data": {
      "text/plain": [
       "[7, 4, 2, 1, 5, 3, 6]"
      ]
     },
     "execution_count": 4,
     "metadata": {},
     "output_type": "execute_result"
    }
   ],
   "source": [
    "example"
   ]
  },
  {
   "cell_type": "code",
   "execution_count": 6,
   "id": "17d45045",
   "metadata": {},
   "outputs": [],
   "source": [
    "def shuffle_list(mylist):\n",
    "    shuffle(mylist)\n",
    "    return mylist"
   ]
  },
  {
   "cell_type": "code",
   "execution_count": 9,
   "id": "a5b19d4e",
   "metadata": {},
   "outputs": [],
   "source": [
    "result=shuffle_list(example)"
   ]
  },
  {
   "cell_type": "code",
   "execution_count": 10,
   "id": "cefe2f52",
   "metadata": {},
   "outputs": [
    {
     "data": {
      "text/plain": [
       "[4, 3, 6, 2, 7, 5, 1]"
      ]
     },
     "execution_count": 10,
     "metadata": {},
     "output_type": "execute_result"
    }
   ],
   "source": [
    "result"
   ]
  },
  {
   "cell_type": "code",
   "execution_count": 12,
   "id": "7d84dc87",
   "metadata": {},
   "outputs": [],
   "source": [
    "mylist=['','0','']"
   ]
  },
  {
   "cell_type": "code",
   "execution_count": 13,
   "id": "ac45a4e1",
   "metadata": {},
   "outputs": [
    {
     "data": {
      "text/plain": [
       "['', '', '0']"
      ]
     },
     "execution_count": 13,
     "metadata": {},
     "output_type": "execute_result"
    }
   ],
   "source": [
    "shuffle_list(mylist)"
   ]
  },
  {
   "cell_type": "code",
   "execution_count": 15,
   "id": "e741deb7",
   "metadata": {},
   "outputs": [],
   "source": [
    "def player_guess():\n",
    "    guess=''\n",
    "    \n",
    "    while guess not in ['0','1','2']:\n",
    "        guess=input(\"Pick a number:0,1 or 2\")\n",
    "        \n",
    "        return int(guess)"
   ]
  },
  {
   "cell_type": "code",
   "execution_count": 16,
   "id": "755d7ee7",
   "metadata": {},
   "outputs": [
    {
     "name": "stdout",
     "output_type": "stream",
     "text": [
      "Pick a number:0,1 or 21\n"
     ]
    },
    {
     "data": {
      "text/plain": [
       "1"
      ]
     },
     "execution_count": 16,
     "metadata": {},
     "output_type": "execute_result"
    }
   ],
   "source": [
    "player_guess()"
   ]
  },
  {
   "cell_type": "code",
   "execution_count": 17,
   "id": "57eafed0",
   "metadata": {},
   "outputs": [
    {
     "name": "stdout",
     "output_type": "stream",
     "text": [
      "Pick a number:0,1 or 21\n"
     ]
    }
   ],
   "source": [
    "myindex=player_guess()"
   ]
  },
  {
   "cell_type": "code",
   "execution_count": 18,
   "id": "9a80b1d5",
   "metadata": {},
   "outputs": [
    {
     "data": {
      "text/plain": [
       "1"
      ]
     },
     "execution_count": 18,
     "metadata": {},
     "output_type": "execute_result"
    }
   ],
   "source": [
    "myindex"
   ]
  },
  {
   "cell_type": "code",
   "execution_count": 21,
   "id": "7d46d16c",
   "metadata": {},
   "outputs": [],
   "source": [
    "def check_guess(mylist,guess):\n",
    "    if mylist[guess]=='O':\n",
    "        print(\"Correct!\")\n",
    "    else:\n",
    "        print(\"Wrong guess!\")\n",
    "        print(mylist)"
   ]
  },
  {
   "cell_type": "code",
   "execution_count": 24,
   "id": "6dc1bc32",
   "metadata": {},
   "outputs": [
    {
     "name": "stdout",
     "output_type": "stream",
     "text": [
      "Pick a number:0,1 or 20\n",
      "Wrong guess!\n",
      "['', '', '0']\n"
     ]
    }
   ],
   "source": [
    "#INITIAL LIST\n",
    "mylist=['','0','']\n",
    "\n",
    "#SHUFFLE LIST\n",
    "mixedup_list=shuffle_list(mylist)\n",
    "\n",
    "#USER GUESS\n",
    "guess=player_guess()\n",
    "\n",
    "#CHECK GUESS\n",
    "check_guess(mixedup_list,guess)"
   ]
  },
  {
   "cell_type": "code",
   "execution_count": null,
   "id": "253ccc33",
   "metadata": {},
   "outputs": [],
   "source": []
  }
 ],
 "metadata": {
  "kernelspec": {
   "display_name": "Python 3 (ipykernel)",
   "language": "python",
   "name": "python3"
  },
  "language_info": {
   "codemirror_mode": {
    "name": "ipython",
    "version": 3
   },
   "file_extension": ".py",
   "mimetype": "text/x-python",
   "name": "python",
   "nbconvert_exporter": "python",
   "pygments_lexer": "ipython3",
   "version": "3.11.5"
  }
 },
 "nbformat": 4,
 "nbformat_minor": 5
}
