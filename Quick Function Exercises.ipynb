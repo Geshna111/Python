{
 "cells": [
  {
   "cell_type": "code",
   "execution_count": 1,
   "id": "d5212dce",
   "metadata": {},
   "outputs": [],
   "source": [
    "##1:Print Hello World\n",
    "def myfunc():\n",
    "    print('Hello World')"
   ]
  },
  {
   "cell_type": "code",
   "execution_count": 2,
   "id": "b6c4bc7a",
   "metadata": {},
   "outputs": [
    {
     "name": "stdout",
     "output_type": "stream",
     "text": [
      "Hello World\n"
     ]
    }
   ],
   "source": [
    "myfunc()"
   ]
  },
  {
   "cell_type": "code",
   "execution_count": 3,
   "id": "1a30405a",
   "metadata": {},
   "outputs": [],
   "source": [
    "##2: Print Hello Name\n",
    "def myfunc(name):\n",
    "    #return 'Hello {}'.format(name)\n",
    "    print('Hello {}'.format(name))"
   ]
  },
  {
   "cell_type": "code",
   "execution_count": 5,
   "id": "a44eb0a6",
   "metadata": {},
   "outputs": [
    {
     "name": "stdout",
     "output_type": "stream",
     "text": [
      "Hello Geshna\n"
     ]
    }
   ],
   "source": [
    "myfunc('Geshna')"
   ]
  },
  {
   "cell_type": "code",
   "execution_count": 6,
   "id": "4450981f",
   "metadata": {},
   "outputs": [],
   "source": [
    "##3: simple Boolean\n",
    "def myfunc(x):\n",
    "    if x==True:\n",
    "        #print ('Hello')\n",
    "        return 'Hello'\n",
    "    elif x==False:\n",
    "        #print ('Goodbye')\n",
    "        return 'Goodbye'"
   ]
  },
  {
   "cell_type": "code",
   "execution_count": 7,
   "id": "6418fae3",
   "metadata": {},
   "outputs": [
    {
     "data": {
      "text/plain": [
       "'Hello'"
      ]
     },
     "execution_count": 7,
     "metadata": {},
     "output_type": "execute_result"
    }
   ],
   "source": [
    "myfunc(True)"
   ]
  },
  {
   "cell_type": "code",
   "execution_count": 8,
   "id": "75c85318",
   "metadata": {},
   "outputs": [],
   "source": [
    "##4: using Booleans\n",
    "def myfunc(x,y,z):\n",
    "    if z:\n",
    "        # print(x)\n",
    "        return x\n",
    "    else:\n",
    "        #print y\n",
    "        return y"
   ]
  },
  {
   "cell_type": "code",
   "execution_count": 9,
   "id": "e9bd804d",
   "metadata": {},
   "outputs": [
    {
     "data": {
      "text/plain": [
       "10"
      ]
     },
     "execution_count": 9,
     "metadata": {},
     "output_type": "execute_result"
    }
   ],
   "source": [
    "myfunc(10,20,True)"
   ]
  },
  {
   "cell_type": "code",
   "execution_count": 10,
   "id": "f75ed65f",
   "metadata": {},
   "outputs": [],
   "source": [
    "##5: simple math\n",
    "def myfunc(a,b):\n",
    "    print(a+b)\n",
    "    # return a+b"
   ]
  },
  {
   "cell_type": "code",
   "execution_count": 11,
   "id": "4455dc84",
   "metadata": {},
   "outputs": [
    {
     "name": "stdout",
     "output_type": "stream",
     "text": [
      "40\n"
     ]
    }
   ],
   "source": [
    "myfunc(10,30)"
   ]
  },
  {
   "cell_type": "code",
   "execution_count": 12,
   "id": "08051d8b",
   "metadata": {},
   "outputs": [],
   "source": [
    "##6: is even\n",
    "def is_even(n):\n",
    "    if n%2==0:\n",
    "        return True\n",
    "        # print(True)\n",
    "    else:\n",
    "        return False"
   ]
  },
  {
   "cell_type": "code",
   "execution_count": 13,
   "id": "bad08508",
   "metadata": {},
   "outputs": [
    {
     "data": {
      "text/plain": [
       "False"
      ]
     },
     "execution_count": 13,
     "metadata": {},
     "output_type": "execute_result"
    }
   ],
   "source": [
    "is_even(5)"
   ]
  },
  {
   "cell_type": "code",
   "execution_count": 14,
   "id": "e82aad6e",
   "metadata": {},
   "outputs": [],
   "source": [
    "##7: is greater\n",
    "def is_greater(x,y):\n",
    "    return x>y"
   ]
  },
  {
   "cell_type": "code",
   "execution_count": 15,
   "id": "d67be44b",
   "metadata": {},
   "outputs": [
    {
     "data": {
      "text/plain": [
       "False"
      ]
     },
     "execution_count": 15,
     "metadata": {},
     "output_type": "execute_result"
    }
   ],
   "source": [
    "is_greater(10,20)"
   ]
  },
  {
   "cell_type": "code",
   "execution_count": 23,
   "id": "4b4cd67a",
   "metadata": {},
   "outputs": [],
   "source": [
    "##8:args\n",
    "def myfunc(*args):\n",
    "    return sum(args)"
   ]
  },
  {
   "cell_type": "code",
   "execution_count": 24,
   "id": "4087cc52",
   "metadata": {},
   "outputs": [
    {
     "data": {
      "text/plain": [
       "6"
      ]
     },
     "execution_count": 24,
     "metadata": {},
     "output_type": "execute_result"
    }
   ],
   "source": [
    "myfunc(1,2,3)"
   ]
  },
  {
   "cell_type": "code",
   "execution_count": 25,
   "id": "58fa183e",
   "metadata": {},
   "outputs": [],
   "source": [
    "##9:pick evens\n",
    "def myfunc(*args):\n",
    "    out=[]\n",
    "    for num in args:\n",
    "        if num%2==0:\n",
    "            out.append(num)\n",
    "    return out"
   ]
  },
  {
   "cell_type": "code",
   "execution_count": 26,
   "id": "d1225f86",
   "metadata": {},
   "outputs": [
    {
     "data": {
      "text/plain": [
       "[2, 4, 6, 8]"
      ]
     },
     "execution_count": 26,
     "metadata": {},
     "output_type": "execute_result"
    }
   ],
   "source": [
    "myfunc(1,2,3,4,5,6,7,8,9)"
   ]
  },
  {
   "cell_type": "code",
   "execution_count": 34,
   "id": "55416e51",
   "metadata": {},
   "outputs": [],
   "source": [
    "##10:skyline\n",
    "def myfunc(x):\n",
    "    out=[]\n",
    "    for i in range(len(x)):\n",
    "        if i%2==0:\n",
    "            out.append(x[i].lower())\n",
    "        else:\n",
    "            out.append(x[i].upper())\n",
    "    return ''.join(out)"
   ]
  },
  {
   "cell_type": "code",
   "execution_count": 35,
   "id": "04a147f2",
   "metadata": {},
   "outputs": [
    {
     "data": {
      "text/plain": [
       "'gEsHnA'"
      ]
     },
     "execution_count": 35,
     "metadata": {},
     "output_type": "execute_result"
    }
   ],
   "source": [
    "myfunc('Geshna')"
   ]
  },
  {
   "cell_type": "code",
   "execution_count": null,
   "id": "e087c806",
   "metadata": {},
   "outputs": [],
   "source": []
  }
 ],
 "metadata": {
  "kernelspec": {
   "display_name": "Python 3 (ipykernel)",
   "language": "python",
   "name": "python3"
  },
  "language_info": {
   "codemirror_mode": {
    "name": "ipython",
    "version": 3
   },
   "file_extension": ".py",
   "mimetype": "text/x-python",
   "name": "python",
   "nbconvert_exporter": "python",
   "pygments_lexer": "ipython3",
   "version": "3.11.5"
  }
 },
 "nbformat": 4,
 "nbformat_minor": 5
}
