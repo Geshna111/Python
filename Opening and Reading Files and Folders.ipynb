{
 "cells": [
  {
   "cell_type": "code",
   "execution_count": 1,
   "id": "2a016d9a",
   "metadata": {},
   "outputs": [
    {
     "data": {
      "text/plain": [
       "'C:\\\\Users\\\\geshn\\\\OneDrive\\\\UDEMY PYTHON'"
      ]
     },
     "execution_count": 1,
     "metadata": {},
     "output_type": "execute_result"
    }
   ],
   "source": [
    "pwd"
   ]
  },
  {
   "cell_type": "code",
   "execution_count": 3,
   "id": "a39ceffb",
   "metadata": {},
   "outputs": [],
   "source": [
    "f = open('practice.txt','w+')\n",
    "f.write('This is a test string')\n",
    "f.close()"
   ]
  },
  {
   "cell_type": "code",
   "execution_count": 4,
   "id": "98d3f8d3",
   "metadata": {},
   "outputs": [],
   "source": [
    "import os"
   ]
  },
  {
   "cell_type": "code",
   "execution_count": 5,
   "id": "19b3c597",
   "metadata": {},
   "outputs": [
    {
     "data": {
      "text/plain": [
       "'C:\\\\Users\\\\geshn\\\\OneDrive\\\\UDEMY PYTHON'"
      ]
     },
     "execution_count": 5,
     "metadata": {},
     "output_type": "execute_result"
    }
   ],
   "source": [
    "os.getcwd()"
   ]
  },
  {
   "cell_type": "code",
   "execution_count": 6,
   "id": "b9b7fc8c",
   "metadata": {},
   "outputs": [
    {
     "data": {
      "text/plain": [
       "['.ipynb_checkpoints',\n",
       " 'args and kwargs.ipynb',\n",
       " 'Basics of Python Functions.ipynb',\n",
       " 'Booleans.ipynb',\n",
       " 'Chaining Comparison Operators in Python with Logical Operators.ipynb',\n",
       " 'Comparison Operators in Python.ipynb',\n",
       " 'Dictionaries.ipynb',\n",
       " 'Displaying Information and Accepting User Input.ipynb',\n",
       " 'Errors and Exception Handling.ipynb',\n",
       " 'Errors and Exception Homework.ipynb',\n",
       " 'For Loops in Python.ipynb',\n",
       " 'Function Exercise - Challenge Problems.ipynb',\n",
       " 'Function Practice Exercises.ipynb',\n",
       " 'Function Practice Problems Level 1.ipynb',\n",
       " 'Function Practice Problems Level 2.ipynb',\n",
       " 'If Elif and Else Statements.ipynb',\n",
       " 'Input&Output with Basic Files.ipynb',\n",
       " 'Interactions between Python Functions.ipynb',\n",
       " 'Lambda Expressions, Map and Filter Functions.ipynb',\n",
       " 'List Comprehensions.ipynb',\n",
       " 'Lists.ipynb',\n",
       " 'Logic with Functions.ipynb',\n",
       " 'Methods and Functions Solutions.ipynb',\n",
       " 'Methods and Python Documentation.ipynb',\n",
       " 'Milestone Project 1.ipynb',\n",
       " 'Milestone Project 2.ipynb',\n",
       " 'Nested Statements and Scope.ipynb',\n",
       " 'Object Oriented Programming - Attributes and Class Keyword.ipynb',\n",
       " 'Object Oriented Programming - Challenge Solution.ipynb',\n",
       " 'Object Oriented Programming - Class Object Attributes and Methods.ipynb',\n",
       " 'Object Oriented Programming - Homework Solutions.ipynb',\n",
       " 'Object Oriented Programming - Inheritance and Polymorphism.ipynb',\n",
       " 'Object Oriented Programming _ Special (Magic and Dunder) Methods.ipynb',\n",
       " 'Opening and Reading Files and Folders.ipynb',\n",
       " 'practice.txt',\n",
       " 'Print Formatting with Strings.ipynb',\n",
       " 'Python Collections Module.ipynb',\n",
       " 'Python Decorators.ipynb',\n",
       " 'Python Generators.ipynb',\n",
       " 'Python Numbers.ipynb',\n",
       " 'Python Objects and Data Structures Assessment Test.ipynb',\n",
       " 'Python Statements Test.ipynb',\n",
       " 'Quick Function Exercises.ipynb',\n",
       " 'Sets.ipynb',\n",
       " 'Simple User Interaction.ipynb',\n",
       " 'String Properties and Methods.ipynb',\n",
       " 'String Slicing and Indexing.ipynb',\n",
       " 'Strings.ipynb',\n",
       " 'Tuple Unpacking with Python Functions.ipynb',\n",
       " 'Tuples.ipynb',\n",
       " 'Useful Operators in Python.ipynb',\n",
       " 'Validating User Input.ipynb',\n",
       " 'Variable Assignments.ipynb',\n",
       " 'While Loops in Python.ipynb']"
      ]
     },
     "execution_count": 6,
     "metadata": {},
     "output_type": "execute_result"
    }
   ],
   "source": [
    "os.listdir()"
   ]
  },
  {
   "cell_type": "code",
   "execution_count": 7,
   "id": "15bf4d81",
   "metadata": {},
   "outputs": [
    {
     "data": {
      "text/plain": [
       "['All Users', 'Default', 'Default User', 'desktop.ini', 'geshn', 'Public']"
      ]
     },
     "execution_count": 7,
     "metadata": {},
     "output_type": "execute_result"
    }
   ],
   "source": [
    "os.listdir('C:\\\\Users')"
   ]
  },
  {
   "cell_type": "code",
   "execution_count": 8,
   "id": "85a07981",
   "metadata": {},
   "outputs": [],
   "source": [
    "import shutil"
   ]
  },
  {
   "cell_type": "code",
   "execution_count": 10,
   "id": "294938c3",
   "metadata": {},
   "outputs": [
    {
     "data": {
      "text/plain": [
       "<function shutil.move(src, dst, copy_function=<function copy2 at 0x00000202FFCCF380>)>"
      ]
     },
     "execution_count": 10,
     "metadata": {},
     "output_type": "execute_result"
    }
   ],
   "source": [
    "shutil.move"
   ]
  },
  {
   "cell_type": "code",
   "execution_count": 11,
   "id": "95d73556",
   "metadata": {},
   "outputs": [],
   "source": [
    "import send2trash"
   ]
  },
  {
   "cell_type": "code",
   "execution_count": 12,
   "id": "2fa37678",
   "metadata": {},
   "outputs": [],
   "source": [
    "send2trash.send2trash('practice.txt')"
   ]
  },
  {
   "cell_type": "code",
   "execution_count": 13,
   "id": "026fccbd",
   "metadata": {},
   "outputs": [
    {
     "data": {
      "text/plain": [
       "['.ipynb_checkpoints',\n",
       " 'args and kwargs.ipynb',\n",
       " 'Basics of Python Functions.ipynb',\n",
       " 'Booleans.ipynb',\n",
       " 'Chaining Comparison Operators in Python with Logical Operators.ipynb',\n",
       " 'Comparison Operators in Python.ipynb',\n",
       " 'Dictionaries.ipynb',\n",
       " 'Displaying Information and Accepting User Input.ipynb',\n",
       " 'Errors and Exception Handling.ipynb',\n",
       " 'Errors and Exception Homework.ipynb',\n",
       " 'For Loops in Python.ipynb',\n",
       " 'Function Exercise - Challenge Problems.ipynb',\n",
       " 'Function Practice Exercises.ipynb',\n",
       " 'Function Practice Problems Level 1.ipynb',\n",
       " 'Function Practice Problems Level 2.ipynb',\n",
       " 'If Elif and Else Statements.ipynb',\n",
       " 'Input&Output with Basic Files.ipynb',\n",
       " 'Interactions between Python Functions.ipynb',\n",
       " 'Lambda Expressions, Map and Filter Functions.ipynb',\n",
       " 'List Comprehensions.ipynb',\n",
       " 'Lists.ipynb',\n",
       " 'Logic with Functions.ipynb',\n",
       " 'Methods and Functions Solutions.ipynb',\n",
       " 'Methods and Python Documentation.ipynb',\n",
       " 'Milestone Project 1.ipynb',\n",
       " 'Milestone Project 2.ipynb',\n",
       " 'Nested Statements and Scope.ipynb',\n",
       " 'Object Oriented Programming - Attributes and Class Keyword.ipynb',\n",
       " 'Object Oriented Programming - Challenge Solution.ipynb',\n",
       " 'Object Oriented Programming - Class Object Attributes and Methods.ipynb',\n",
       " 'Object Oriented Programming - Homework Solutions.ipynb',\n",
       " 'Object Oriented Programming - Inheritance and Polymorphism.ipynb',\n",
       " 'Object Oriented Programming _ Special (Magic and Dunder) Methods.ipynb',\n",
       " 'Opening and Reading Files and Folders.ipynb',\n",
       " 'Print Formatting with Strings.ipynb',\n",
       " 'Python Collections Module.ipynb',\n",
       " 'Python Decorators.ipynb',\n",
       " 'Python Generators.ipynb',\n",
       " 'Python Numbers.ipynb',\n",
       " 'Python Objects and Data Structures Assessment Test.ipynb',\n",
       " 'Python Statements Test.ipynb',\n",
       " 'Quick Function Exercises.ipynb',\n",
       " 'Sets.ipynb',\n",
       " 'Simple User Interaction.ipynb',\n",
       " 'String Properties and Methods.ipynb',\n",
       " 'String Slicing and Indexing.ipynb',\n",
       " 'Strings.ipynb',\n",
       " 'Tuple Unpacking with Python Functions.ipynb',\n",
       " 'Tuples.ipynb',\n",
       " 'Useful Operators in Python.ipynb',\n",
       " 'Validating User Input.ipynb',\n",
       " 'Variable Assignments.ipynb',\n",
       " 'While Loops in Python.ipynb']"
      ]
     },
     "execution_count": 13,
     "metadata": {},
     "output_type": "execute_result"
    }
   ],
   "source": [
    "os.listdir()"
   ]
  },
  {
   "cell_type": "code",
   "execution_count": null,
   "id": "1ea0c52a",
   "metadata": {},
   "outputs": [],
   "source": [
    "for folder, sub_folders"
   ]
  }
 ],
 "metadata": {
  "kernelspec": {
   "display_name": "Python 3 (ipykernel)",
   "language": "python",
   "name": "python3"
  },
  "language_info": {
   "codemirror_mode": {
    "name": "ipython",
    "version": 3
   },
   "file_extension": ".py",
   "mimetype": "text/x-python",
   "name": "python",
   "nbconvert_exporter": "python",
   "pygments_lexer": "ipython3",
   "version": "3.11.5"
  }
 },
 "nbformat": 4,
 "nbformat_minor": 5
}
