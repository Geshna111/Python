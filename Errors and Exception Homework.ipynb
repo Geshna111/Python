{
 "cells": [
  {
   "cell_type": "code",
   "execution_count": 3,
   "id": "c0b96200",
   "metadata": {},
   "outputs": [
    {
     "name": "stdout",
     "output_type": "stream",
     "text": [
      "General error! Watch out!\n"
     ]
    }
   ],
   "source": [
    "try:\n",
    "    for i in ['a','b','c']:\n",
    "        print(i**2)\n",
    "except:\n",
    "    print(\"General error! Watch out!\")"
   ]
  },
  {
   "cell_type": "code",
   "execution_count": 4,
   "id": "87f590bd",
   "metadata": {},
   "outputs": [
    {
     "name": "stdout",
     "output_type": "stream",
     "text": [
      "Error!!\n",
      "All done\n"
     ]
    }
   ],
   "source": [
    "try: \n",
    "    x = 5\n",
    "    y = 0\n",
    "    z = x/y\n",
    "except:\n",
    "    print(\"Error!!\")\n",
    "finally: \n",
    "    print(\"All done\")"
   ]
  },
  {
   "cell_type": "code",
   "execution_count": 10,
   "id": "18b5de9c",
   "metadata": {},
   "outputs": [],
   "source": [
    "def ask():\n",
    "    \n",
    "    #Waiting for correct response\n",
    "    waiting = True\n",
    "    while waiting:\n",
    "        try:\n",
    "            n = int(input(\"Enter a number\"))\n",
    "        except:\n",
    "            print(\"Please try again! \\n\")\n",
    "            continue\n",
    "        else:\n",
    "            break\n",
    "        \n",
    "    print(\"Your number sqaured is: \")\n",
    "    print(n**2)"
   ]
  },
  {
   "cell_type": "code",
   "execution_count": 11,
   "id": "856eb072",
   "metadata": {},
   "outputs": [
    {
     "name": "stdout",
     "output_type": "stream",
     "text": [
      "Enter a numberr\n",
      "Please try again! \n",
      "\n",
      "Enter a number2\n",
      "Your number sqaured is: \n",
      "4\n"
     ]
    }
   ],
   "source": [
    "ask()"
   ]
  },
  {
   "cell_type": "code",
   "execution_count": null,
   "id": "e9787284",
   "metadata": {},
   "outputs": [],
   "source": []
  }
 ],
 "metadata": {
  "kernelspec": {
   "display_name": "Python 3 (ipykernel)",
   "language": "python",
   "name": "python3"
  },
  "language_info": {
   "codemirror_mode": {
    "name": "ipython",
    "version": 3
   },
   "file_extension": ".py",
   "mimetype": "text/x-python",
   "name": "python",
   "nbconvert_exporter": "python",
   "pygments_lexer": "ipython3",
   "version": "3.11.5"
  }
 },
 "nbformat": 4,
 "nbformat_minor": 5
}
