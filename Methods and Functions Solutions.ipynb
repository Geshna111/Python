{
 "cells": [
  {
   "cell_type": "code",
   "execution_count": 1,
   "id": "dd6b9fe7",
   "metadata": {},
   "outputs": [],
   "source": [
    "##Write a function that computes the volme of a sphere given its radius"
   ]
  },
  {
   "cell_type": "code",
   "execution_count": 6,
   "id": "506779a7",
   "metadata": {},
   "outputs": [],
   "source": [
    "def vol(rad):\n",
    "    return (4/3)*(3.14)*(rad**3)"
   ]
  },
  {
   "cell_type": "code",
   "execution_count": 7,
   "id": "bda80cf3",
   "metadata": {},
   "outputs": [
    {
     "data": {
      "text/plain": [
       "33.49333333333333"
      ]
     },
     "execution_count": 7,
     "metadata": {},
     "output_type": "execute_result"
    }
   ],
   "source": [
    "vol(2)"
   ]
  },
  {
   "cell_type": "code",
   "execution_count": 8,
   "id": "a7a895cd",
   "metadata": {},
   "outputs": [],
   "source": [
    "##Write a function that checks whether a number is in a given range(inclusive of high and low)"
   ]
  },
  {
   "cell_type": "code",
   "execution_count": 16,
   "id": "eaa816dc",
   "metadata": {},
   "outputs": [
    {
     "data": {
      "text/plain": [
       "False"
      ]
     },
     "execution_count": 16,
     "metadata": {},
     "output_type": "execute_result"
    }
   ],
   "source": [
    "5 in range(0,5)"
   ]
  },
  {
   "cell_type": "code",
   "execution_count": 19,
   "id": "751af5e1",
   "metadata": {},
   "outputs": [],
   "source": [
    "def ran_check(num,low,high):\n",
    "    if num in range(low,high+1):\n",
    "        print(f'{num} is in range of {low} and {high}')\n",
    "    else:\n",
    "        print('not in range')"
   ]
  },
  {
   "cell_type": "code",
   "execution_count": 20,
   "id": "06a6298a",
   "metadata": {},
   "outputs": [
    {
     "name": "stdout",
     "output_type": "stream",
     "text": [
      "5 is in range of 2 and 7\n"
     ]
    }
   ],
   "source": [
    "ran_check(5,2,7)"
   ]
  },
  {
   "cell_type": "code",
   "execution_count": 21,
   "id": "b04638cf",
   "metadata": {},
   "outputs": [],
   "source": [
    "##Write a python function that accepts a string and calculates the number of upper case letters and lower case letters"
   ]
  },
  {
   "cell_type": "code",
   "execution_count": 23,
   "id": "f4bc4fd5",
   "metadata": {},
   "outputs": [
    {
     "data": {
      "text/plain": [
       "False"
      ]
     },
     "execution_count": 23,
     "metadata": {},
     "output_type": "execute_result"
    }
   ],
   "source": [
    "'?'.islower()"
   ]
  },
  {
   "cell_type": "code",
   "execution_count": 29,
   "id": "da6393f8",
   "metadata": {},
   "outputs": [
    {
     "ename": "SyntaxError",
     "evalue": "f-string: unmatched '[' (848994130.py, line 13)",
     "output_type": "error",
     "traceback": [
      "\u001b[1;36m  Cell \u001b[1;32mIn[29], line 13\u001b[1;36m\u001b[0m\n\u001b[1;33m    print(f'Lowercase count: {d['lower']}')\u001b[0m\n\u001b[1;37m                                 ^\u001b[0m\n\u001b[1;31mSyntaxError\u001b[0m\u001b[1;31m:\u001b[0m f-string: unmatched '['\n"
     ]
    }
   ],
   "source": [
    "def up_low(s):\n",
    "    d={'upper':0,'lower':0}\n",
    "    \n",
    "    for char in s:\n",
    "        if char.isupper():\n",
    "            d['upper']+=1\n",
    "        elif char.islower():\n",
    "            d['lower']+=1\n",
    "        else:\n",
    "            pass\n",
    "    \n",
    "    print(f'Original string: {s}')\n",
    "    print(f'Lowercase count: {d['lower']}')\n",
    "    print(f'Uppercase count: {d['upper']}')"
   ]
  },
  {
   "cell_type": "code",
   "execution_count": 30,
   "id": "96d365eb",
   "metadata": {},
   "outputs": [
    {
     "name": "stdout",
     "output_type": "stream",
     "text": [
      "Original string: Hello Mr. Rogers, how are you this  fine Tuesday?\n",
      "Lowercase count: 33\n",
      "Uppercase count: 4\n"
     ]
    }
   ],
   "source": [
    "s='Hello Mr. Rogers, how are you this  fine Tuesday?'\n",
    "up_low(s)"
   ]
  },
  {
   "cell_type": "code",
   "execution_count": null,
   "id": "a03b8b27",
   "metadata": {},
   "outputs": [],
   "source": [
    "##Write a python function that takes a list and returns a new list with unique elements of the first list"
   ]
  },
  {
   "cell_type": "code",
   "execution_count": 35,
   "id": "9c4dc035",
   "metadata": {},
   "outputs": [],
   "source": [
    "def unique_list(lst):\n",
    "    seen_numbers=[]\n",
    "    for number in lst:\n",
    "        if number not in seen_numbers:\n",
    "            seen_numbers.append(number)\n",
    "    return seen_numbers\n",
    "    "
   ]
  },
  {
   "cell_type": "code",
   "execution_count": 36,
   "id": "48f368d6",
   "metadata": {},
   "outputs": [
    {
     "data": {
      "text/plain": [
       "[1, 2, 3, 4, 5]"
      ]
     },
     "execution_count": 36,
     "metadata": {},
     "output_type": "execute_result"
    }
   ],
   "source": [
    "unique_list([1,1,1,1,2,2,3,3,3,3,4,5])"
   ]
  },
  {
   "cell_type": "code",
   "execution_count": 37,
   "id": "4bf81c39",
   "metadata": {},
   "outputs": [],
   "source": [
    "##Write a Python function to multiply all the numbers in a list"
   ]
  },
  {
   "cell_type": "code",
   "execution_count": 40,
   "id": "b5eccbbd",
   "metadata": {},
   "outputs": [],
   "source": [
    "def multiply(numbers):\n",
    "    total=1\n",
    "    for num in numbers:\n",
    "        total=total*num\n",
    "        \n",
    "    return total"
   ]
  },
  {
   "cell_type": "code",
   "execution_count": 42,
   "id": "5c2713f8",
   "metadata": {},
   "outputs": [
    {
     "data": {
      "text/plain": [
       "-240"
      ]
     },
     "execution_count": 42,
     "metadata": {},
     "output_type": "execute_result"
    }
   ],
   "source": [
    "multiply([1,2,3,-4,10])"
   ]
  },
  {
   "cell_type": "code",
   "execution_count": 43,
   "id": "898551cc",
   "metadata": {},
   "outputs": [],
   "source": [
    "##Write a Python function that checks whther a word of phrase is palindrome or not"
   ]
  },
  {
   "cell_type": "code",
   "execution_count": 48,
   "id": "dff3fd4c",
   "metadata": {},
   "outputs": [],
   "source": [
    "def palindrome(s):\n",
    "    #Remove spaces string\n",
    "    s=s.replace(' ','')\n",
    "    #Cehck if string is == reversed version of the string\n",
    "    return s==s[::-1]\n",
    "    "
   ]
  },
  {
   "cell_type": "code",
   "execution_count": 49,
   "id": "bfc48518",
   "metadata": {},
   "outputs": [
    {
     "data": {
      "text/plain": [
       "True"
      ]
     },
     "execution_count": 49,
     "metadata": {},
     "output_type": "execute_result"
    }
   ],
   "source": [
    "palindrome('nurses run')"
   ]
  },
  {
   "cell_type": "code",
   "execution_count": 50,
   "id": "9582b46b",
   "metadata": {},
   "outputs": [],
   "source": [
    "##Write a python function to check whether a string is pangram or not"
   ]
  },
  {
   "cell_type": "code",
   "execution_count": 53,
   "id": "118223e9",
   "metadata": {},
   "outputs": [],
   "source": [
    "import string\n",
    "\n",
    "def ispangram(str1, alphabet=string.ascii_lowercase):\n",
    "    \n",
    "    #Create a set of the alphabet\n",
    "    alphaset=set(alphabet)\n",
    "    \n",
    "    print(alphaset)\n",
    "    #Remove any spaces from the input string\n",
    "    str1=str1.replace(' ','')\n",
    "    #Convert into all lowercase\n",
    "    str1=str1.lower()\n",
    "    #Grab all unique letters from the string set()\n",
    "    str1=set(str1)\n",
    "    #alphabet set==string set input\n",
    "    return str1==alphaset"
   ]
  },
  {
   "cell_type": "code",
   "execution_count": 54,
   "id": "71d2430f",
   "metadata": {},
   "outputs": [
    {
     "name": "stdout",
     "output_type": "stream",
     "text": [
      "{'g', 'p', 'm', 'w', 'u', 'z', 'n', 's', 'q', 'k', 'b', 'l', 'a', 'j', 'y', 'e', 'x', 'r', 'f', 'v', 'd', 'o', 'c', 'i', 'h', 't'}\n"
     ]
    },
    {
     "data": {
      "text/plain": [
       "True"
      ]
     },
     "execution_count": 54,
     "metadata": {},
     "output_type": "execute_result"
    }
   ],
   "source": [
    "ispangram('The quick brown fox jumps over the lazy dog')"
   ]
  },
  {
   "cell_type": "code",
   "execution_count": 55,
   "id": "15d72eaf",
   "metadata": {},
   "outputs": [
    {
     "data": {
      "text/plain": [
       "'abcdefghijklmnopqrstuvwxyz'"
      ]
     },
     "execution_count": 55,
     "metadata": {},
     "output_type": "execute_result"
    }
   ],
   "source": [
    "string.ascii_lowercase"
   ]
  },
  {
   "cell_type": "code",
   "execution_count": null,
   "id": "ea911b2c",
   "metadata": {},
   "outputs": [],
   "source": []
  }
 ],
 "metadata": {
  "kernelspec": {
   "display_name": "Python 3 (ipykernel)",
   "language": "python",
   "name": "python3"
  },
  "language_info": {
   "codemirror_mode": {
    "name": "ipython",
    "version": 3
   },
   "file_extension": ".py",
   "mimetype": "text/x-python",
   "name": "python",
   "nbconvert_exporter": "python",
   "pygments_lexer": "ipython3",
   "version": "3.11.5"
  }
 },
 "nbformat": 4,
 "nbformat_minor": 5
}
