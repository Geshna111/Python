{
 "cells": [
  {
   "cell_type": "code",
   "execution_count": 1,
   "id": "fc07a364",
   "metadata": {},
   "outputs": [],
   "source": [
    "## Given a list of ints, return True if the array contains a 3 next to a 3 somewhere"
   ]
  },
  {
   "cell_type": "code",
   "execution_count": 7,
   "id": "c69d6288",
   "metadata": {},
   "outputs": [],
   "source": [
    "def has_33(nums):\n",
    "    for i in range (0,len(nums)-1):\n",
    "        if nums[i]==3 and nums[i+1]==3:\n",
    "            return True\n",
    "        \n",
    "    return False"
   ]
  },
  {
   "cell_type": "code",
   "execution_count": 8,
   "id": "aa4f3e4b",
   "metadata": {},
   "outputs": [
    {
     "data": {
      "text/plain": [
       "False"
      ]
     },
     "execution_count": 8,
     "metadata": {},
     "output_type": "execute_result"
    }
   ],
   "source": [
    "has_33([1,3,1,3])"
   ]
  },
  {
   "cell_type": "code",
   "execution_count": 9,
   "id": "f9ce15ee",
   "metadata": {},
   "outputs": [
    {
     "data": {
      "text/plain": [
       "True"
      ]
     },
     "execution_count": 9,
     "metadata": {},
     "output_type": "execute_result"
    }
   ],
   "source": [
    "has_33([1,3,3])"
   ]
  },
  {
   "cell_type": "code",
   "execution_count": 10,
   "id": "31af5a28",
   "metadata": {},
   "outputs": [],
   "source": [
    "##Given a string, return a string where for every character in the original there are three characters"
   ]
  },
  {
   "cell_type": "code",
   "execution_count": 11,
   "id": "b080765d",
   "metadata": {},
   "outputs": [],
   "source": [
    "def paper_doll(text):\n",
    "    result=''\n",
    "    \n",
    "    for char in text:\n",
    "        result+=char*3\n",
    "    return result"
   ]
  },
  {
   "cell_type": "code",
   "execution_count": 12,
   "id": "7d442455",
   "metadata": {},
   "outputs": [
    {
     "data": {
      "text/plain": [
       "'HHHeeellllllooo'"
      ]
     },
     "execution_count": 12,
     "metadata": {},
     "output_type": "execute_result"
    }
   ],
   "source": [
    "paper_doll('Hello')"
   ]
  },
  {
   "cell_type": "code",
   "execution_count": 13,
   "id": "9c6a2890",
   "metadata": {},
   "outputs": [
    {
     "data": {
      "text/plain": [
       "'MMMiiissssssiiissssssiiippppppiii'"
      ]
     },
     "execution_count": 13,
     "metadata": {},
     "output_type": "execute_result"
    }
   ],
   "source": [
    "paper_doll('Mississippi')"
   ]
  },
  {
   "cell_type": "code",
   "execution_count": 14,
   "id": "6878eb25",
   "metadata": {},
   "outputs": [],
   "source": [
    "##Given three integers between 1 and 11, if their sum is less than or equal to 21, return their sum. If their sum exceeds 21 and there's an eleven, reduce the total sum by 10.Finally if the sum(even after adjustment) exceeds 21,return 'BUST'"
   ]
  },
  {
   "cell_type": "code",
   "execution_count": 15,
   "id": "16b95f4d",
   "metadata": {},
   "outputs": [],
   "source": [
    "def blackjack(a,b,c):\n",
    "    \n",
    "    \n",
    "    if sum([a,b,c])<=21:\n",
    "        return sum([a,b,c])\n",
    "    elif 11 in [a,b,c] and sum([a,b,c])-10<=21:\n",
    "        return sum([a,b,c])-10\n",
    "    else:\n",
    "        return 'BUST'"
   ]
  },
  {
   "cell_type": "code",
   "execution_count": 16,
   "id": "ce2f8034",
   "metadata": {},
   "outputs": [
    {
     "data": {
      "text/plain": [
       "18"
      ]
     },
     "execution_count": 16,
     "metadata": {},
     "output_type": "execute_result"
    }
   ],
   "source": [
    "blackjack(5,6,7)"
   ]
  },
  {
   "cell_type": "code",
   "execution_count": 17,
   "id": "691bdea1",
   "metadata": {},
   "outputs": [
    {
     "data": {
      "text/plain": [
       "'BUST'"
      ]
     },
     "execution_count": 17,
     "metadata": {},
     "output_type": "execute_result"
    }
   ],
   "source": [
    "blackjack(9,9,9)"
   ]
  },
  {
   "cell_type": "code",
   "execution_count": 18,
   "id": "7b525123",
   "metadata": {},
   "outputs": [
    {
     "data": {
      "text/plain": [
       "19"
      ]
     },
     "execution_count": 18,
     "metadata": {},
     "output_type": "execute_result"
    }
   ],
   "source": [
    "blackjack(9,9,11)"
   ]
  },
  {
   "cell_type": "code",
   "execution_count": 19,
   "id": "618f3675",
   "metadata": {},
   "outputs": [],
   "source": [
    "##Return the sum of the numbers in the array,except ignore sections of numbers starting with a 6 and extending to the next 9(every 6 will be followed by atleast one 9).Return 0 for no numbers."
   ]
  },
  {
   "cell_type": "code",
   "execution_count": 29,
   "id": "9c75b09e",
   "metadata": {},
   "outputs": [],
   "source": [
    "def summer_69(arr):\n",
    "    \n",
    "    total=0\n",
    "    add=True\n",
    "    \n",
    "    for num in arr:\n",
    "        while add:\n",
    "            if num!=6:\n",
    "                total+=num\n",
    "                break\n",
    "            else:\n",
    "                add=False\n",
    "        while not add:\n",
    "            if num!=9:\n",
    "                break\n",
    "            else:\n",
    "                add=True\n",
    "                break\n",
    "    return total"
   ]
  },
  {
   "cell_type": "code",
   "execution_count": 30,
   "id": "65f43bce",
   "metadata": {},
   "outputs": [
    {
     "data": {
      "text/plain": [
       "9"
      ]
     },
     "execution_count": 30,
     "metadata": {},
     "output_type": "execute_result"
    }
   ],
   "source": [
    "summer_69([1,3,5])"
   ]
  },
  {
   "cell_type": "code",
   "execution_count": 31,
   "id": "d3aadfa3",
   "metadata": {},
   "outputs": [
    {
     "data": {
      "text/plain": [
       "9"
      ]
     },
     "execution_count": 31,
     "metadata": {},
     "output_type": "execute_result"
    }
   ],
   "source": [
    "summer_69([4,5,6,7,8,9])"
   ]
  },
  {
   "cell_type": "code",
   "execution_count": 32,
   "id": "d92cf538",
   "metadata": {},
   "outputs": [
    {
     "data": {
      "text/plain": [
       "14"
      ]
     },
     "execution_count": 32,
     "metadata": {},
     "output_type": "execute_result"
    }
   ],
   "source": [
    "summer_69([2,1,6,9,11])"
   ]
  },
  {
   "cell_type": "code",
   "execution_count": null,
   "id": "ca14457c",
   "metadata": {},
   "outputs": [],
   "source": []
  }
 ],
 "metadata": {
  "kernelspec": {
   "display_name": "Python 3 (ipykernel)",
   "language": "python",
   "name": "python3"
  },
  "language_info": {
   "codemirror_mode": {
    "name": "ipython",
    "version": 3
   },
   "file_extension": ".py",
   "mimetype": "text/x-python",
   "name": "python",
   "nbconvert_exporter": "python",
   "pygments_lexer": "ipython3",
   "version": "3.11.5"
  }
 },
 "nbformat": 4,
 "nbformat_minor": 5
}
