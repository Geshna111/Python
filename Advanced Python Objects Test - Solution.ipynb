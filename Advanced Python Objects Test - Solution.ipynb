{
 "cells": [
  {
   "cell_type": "code",
   "execution_count": 1,
   "id": "c3fb05e0",
   "metadata": {},
   "outputs": [],
   "source": [
    "##Advanced Numbers"
   ]
  },
  {
   "cell_type": "code",
   "execution_count": 2,
   "id": "db7cd077",
   "metadata": {},
   "outputs": [],
   "source": [
    "#Convert 1024 to binary and hexadecimal representation"
   ]
  },
  {
   "cell_type": "code",
   "execution_count": 4,
   "id": "620ff317",
   "metadata": {},
   "outputs": [
    {
     "name": "stdout",
     "output_type": "stream",
     "text": [
      "0b10000000000\n",
      "0x400\n"
     ]
    }
   ],
   "source": [
    "print (bin(1024))\n",
    "print (hex(1024))"
   ]
  },
  {
   "cell_type": "code",
   "execution_count": 6,
   "id": "bac9008c",
   "metadata": {},
   "outputs": [],
   "source": [
    "#Round 5.23222 to two decimal places"
   ]
  },
  {
   "cell_type": "code",
   "execution_count": 7,
   "id": "813c24c0",
   "metadata": {},
   "outputs": [
    {
     "data": {
      "text/plain": [
       "5.23"
      ]
     },
     "execution_count": 7,
     "metadata": {},
     "output_type": "execute_result"
    }
   ],
   "source": [
    "round(5.23222,2)"
   ]
  },
  {
   "cell_type": "code",
   "execution_count": 8,
   "id": "cd04e63e",
   "metadata": {},
   "outputs": [],
   "source": [
    "##Advanced Strings"
   ]
  },
  {
   "cell_type": "code",
   "execution_count": 9,
   "id": "9418493d",
   "metadata": {},
   "outputs": [],
   "source": [
    "#Check if every letter in the string s is lower case"
   ]
  },
  {
   "cell_type": "code",
   "execution_count": 10,
   "id": "fd31bcde",
   "metadata": {},
   "outputs": [
    {
     "data": {
      "text/plain": [
       "False"
      ]
     },
     "execution_count": 10,
     "metadata": {},
     "output_type": "execute_result"
    }
   ],
   "source": [
    "s = 'hello how are you Mary,are you feeling okay?'\n",
    "\n",
    "s.islower()"
   ]
  },
  {
   "cell_type": "code",
   "execution_count": 11,
   "id": "87f4da3c",
   "metadata": {},
   "outputs": [],
   "source": [
    "#How many times does the letter 'w' show up in the string below?"
   ]
  },
  {
   "cell_type": "code",
   "execution_count": 12,
   "id": "03996d53",
   "metadata": {},
   "outputs": [
    {
     "data": {
      "text/plain": [
       "12"
      ]
     },
     "execution_count": 12,
     "metadata": {},
     "output_type": "execute_result"
    }
   ],
   "source": [
    "s = 'twywywtwywbwhsjhwuwshshwuwwwjdjdid'\n",
    "s.count('w')"
   ]
  },
  {
   "cell_type": "code",
   "execution_count": 13,
   "id": "9bdbbccb",
   "metadata": {},
   "outputs": [],
   "source": [
    "##Advanced Sets"
   ]
  },
  {
   "cell_type": "code",
   "execution_count": 14,
   "id": "af02e58e",
   "metadata": {},
   "outputs": [
    {
     "data": {
      "text/plain": [
       "{2}"
      ]
     },
     "execution_count": 14,
     "metadata": {},
     "output_type": "execute_result"
    }
   ],
   "source": [
    "set1 = {2,3,1,5,6,8}\n",
    "set2 = {3,1,7,5,6,8}\n",
    "\n",
    "set1.difference(set2)"
   ]
  },
  {
   "cell_type": "code",
   "execution_count": 15,
   "id": "d532ace5",
   "metadata": {},
   "outputs": [
    {
     "data": {
      "text/plain": [
       "{1, 2, 3, 5, 6, 7, 8}"
      ]
     },
     "execution_count": 15,
     "metadata": {},
     "output_type": "execute_result"
    }
   ],
   "source": [
    "set1.union(set2)"
   ]
  },
  {
   "cell_type": "code",
   "execution_count": 16,
   "id": "42e566f3",
   "metadata": {},
   "outputs": [],
   "source": [
    "##Advanced Dictionaries"
   ]
  },
  {
   "cell_type": "code",
   "execution_count": 19,
   "id": "924c245b",
   "metadata": {},
   "outputs": [],
   "source": [
    "#Create this dictionary: {0:0,1:1,2:8,3:27,4:64} using dictionary comprehension"
   ]
  },
  {
   "cell_type": "code",
   "execution_count": 20,
   "id": "dc03fbc6",
   "metadata": {},
   "outputs": [
    {
     "data": {
      "text/plain": [
       "{0: 0, 1: 1, 2: 8, 3: 27, 4: 64}"
      ]
     },
     "execution_count": 20,
     "metadata": {},
     "output_type": "execute_result"
    }
   ],
   "source": [
    "{x:x**3 for x in range(5)}"
   ]
  },
  {
   "cell_type": "code",
   "execution_count": 21,
   "id": "d148efbd",
   "metadata": {},
   "outputs": [],
   "source": [
    "##Advanced Lists"
   ]
  },
  {
   "cell_type": "code",
   "execution_count": null,
   "id": "03f48942",
   "metadata": {},
   "outputs": [],
   "source": [
    "#"
   ]
  }
 ],
 "metadata": {
  "kernelspec": {
   "display_name": "Python 3 (ipykernel)",
   "language": "python",
   "name": "python3"
  },
  "language_info": {
   "codemirror_mode": {
    "name": "ipython",
    "version": 3
   },
   "file_extension": ".py",
   "mimetype": "text/x-python",
   "name": "python",
   "nbconvert_exporter": "python",
   "pygments_lexer": "ipython3",
   "version": "3.11.5"
  }
 },
 "nbformat": 4,
 "nbformat_minor": 5
}
