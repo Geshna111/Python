{
 "cells": [
  {
   "cell_type": "code",
   "execution_count": 1,
   "id": "e54b5972",
   "metadata": {},
   "outputs": [],
   "source": [
    "from IPython.display import clear_output\n",
    "\n",
    "def display_board(board):\n",
    "    clear_output()\n",
    "    print('   |   |')\n",
    "    print(' ' + board[1] + ' | ' + board[2] + ' | ' + board[3])\n",
    "    print('   |   |')\n",
    "    print('-----------')\n",
    "    print('   |   |')\n",
    "    print(' ' + board[4] + ' | ' + board[5] + ' | ' + board[6])\n",
    "    print('   |   |')\n",
    "    print('-----------')\n",
    "    print('   |   |')\n",
    "    print(' ' + board[7] + ' | ' + board[8] + ' | ' + board[9])\n",
    "    print('   |   |')"
   ]
  },
  {
   "cell_type": "code",
   "execution_count": 2,
   "id": "4d1b359f",
   "metadata": {},
   "outputs": [
    {
     "name": "stdout",
     "output_type": "stream",
     "text": [
      "   |   |\n",
      " X | O | X\n",
      "   |   |\n",
      "-----------\n",
      "   |   |\n",
      " O | X | O\n",
      "   |   |\n",
      "-----------\n",
      "   |   |\n",
      " X | O | X\n",
      "   |   |\n"
     ]
    }
   ],
   "source": [
    "test_board=['O','X','O','X','O','X','O','X','O','X']\n",
    "display_board(test_board)\n",
    "display_board(test_board)\n"
   ]
  },
  {
   "cell_type": "code",
   "execution_count": 3,
   "id": "de2af492",
   "metadata": {},
   "outputs": [],
   "source": [
    "def player_input():\n",
    "    \n",
    "    '''\n",
    "    OUTPUT = (Player 1 marker, Player 2 marker)\n",
    "    '''\n",
    "    \n",
    "    marker=''\n",
    "    \n",
    "    while marker!='X' and marker!='O':\n",
    "        marker=input('Player 1: Choose X or O:').upper()\n",
    "        \n",
    "    if marker == 'X':\n",
    "        \n",
    "        return ('X','O')\n",
    "    else:\n",
    "        return ('O','X')"
   ]
  },
  {
   "cell_type": "code",
   "execution_count": 4,
   "id": "0f0b6505",
   "metadata": {},
   "outputs": [
    {
     "name": "stdout",
     "output_type": "stream",
     "text": [
      "Player 1: Choose X or O:X\n"
     ]
    }
   ],
   "source": [
    "player1_marker,player2_marker=player_input()"
   ]
  },
  {
   "cell_type": "code",
   "execution_count": 5,
   "id": "e6cf8741",
   "metadata": {},
   "outputs": [],
   "source": [
    "def place_marker(board,marker,position):\n",
    "    \n",
    "    board[position]=marker"
   ]
  },
  {
   "cell_type": "code",
   "execution_count": 6,
   "id": "9765e0dd",
   "metadata": {},
   "outputs": [
    {
     "data": {
      "text/plain": [
       "['O', 'X', 'O', 'X', 'O', 'X', 'O', 'X', 'O', 'X']"
      ]
     },
     "execution_count": 6,
     "metadata": {},
     "output_type": "execute_result"
    }
   ],
   "source": [
    "test_board"
   ]
  },
  {
   "cell_type": "code",
   "execution_count": 7,
   "id": "6db60a7d",
   "metadata": {},
   "outputs": [
    {
     "name": "stdout",
     "output_type": "stream",
     "text": [
      "   |   |\n",
      " X | O | X\n",
      "   |   |\n",
      "-----------\n",
      "   |   |\n",
      " O | X | O\n",
      "   |   |\n",
      "-----------\n",
      "   |   |\n",
      " X | $ | X\n",
      "   |   |\n"
     ]
    }
   ],
   "source": [
    "place_marker(test_board,'$',8)\n",
    "display_board(test_board)"
   ]
  },
  {
   "cell_type": "code",
   "execution_count": 8,
   "id": "f9aa5213",
   "metadata": {},
   "outputs": [],
   "source": [
    "def win_check(board,mark):\n",
    "    \n",
    "    # WIN TIC TAC TOE?\n",
    "    \n",
    "    return ((board[7]==mark and board[8]==mark and board[9]==mark) or\n",
    "    (board[4]==mark and board[5]==mark and board[6]==mark) or # across the middle\n",
    "    (board[1]==mark and board[2]==mark and board[3]==mark) or # across the bottom\n",
    "    (board[7]==mark and board[4]==mark and board[1]==mark) or # down the middle\n",
    "    (board[8]==mark and board[5]==mark and board[2]==mark) or # down the middle\n",
    "    (board[9]==mark and board[6]==mark and board[3]==mark) or # down the right side\n",
    "    (board[7]==mark and board[5]==mark and board[3]==mark) or # diagonal\n",
    "    (board[9]==mark and board[5]==mark and board[1]==mark)) #diagonal"
   ]
  },
  {
   "cell_type": "code",
   "execution_count": 9,
   "id": "a146d33a",
   "metadata": {},
   "outputs": [
    {
     "name": "stdout",
     "output_type": "stream",
     "text": [
      "   |   |\n",
      " X | O | X\n",
      "   |   |\n",
      "-----------\n",
      "   |   |\n",
      " O | X | O\n",
      "   |   |\n",
      "-----------\n",
      "   |   |\n",
      " X | $ | X\n",
      "   |   |\n"
     ]
    },
    {
     "data": {
      "text/plain": [
       "True"
      ]
     },
     "execution_count": 9,
     "metadata": {},
     "output_type": "execute_result"
    }
   ],
   "source": [
    "display_board(test_board)\n",
    "win_check(test_board,'X')"
   ]
  },
  {
   "cell_type": "code",
   "execution_count": 10,
   "id": "4991e494",
   "metadata": {},
   "outputs": [],
   "source": [
    "import random\n",
    "\n",
    "def choose_first():\n",
    "    \n",
    "    flip=random.randint(0,1)\n",
    "    \n",
    "    if flip==0:\n",
    "        return 'Player 1'\n",
    "    else:\n",
    "        return 'Player 2'"
   ]
  },
  {
   "cell_type": "code",
   "execution_count": 11,
   "id": "9316418e",
   "metadata": {},
   "outputs": [],
   "source": [
    "def space_check(board,position):\n",
    "    \n",
    "    return board[position]==' '"
   ]
  },
  {
   "cell_type": "code",
   "execution_count": 12,
   "id": "119d93cd",
   "metadata": {},
   "outputs": [],
   "source": [
    "def full_board_check(board):\n",
    "    \n",
    "    for i in range(1,10):\n",
    "        if space_check(board,i):\n",
    "            return False\n",
    "    # BOARD IS FULL WE RETURN TRUE  \n",
    "    return True"
   ]
  },
  {
   "cell_type": "code",
   "execution_count": 13,
   "id": "9c1316e7",
   "metadata": {},
   "outputs": [],
   "source": [
    "def player_choice(board):\n",
    "    \n",
    "    position=0\n",
    "    \n",
    "    while position not in [1,2,3,4,5,6,7,8,9] or not space_check(board,position):\n",
    "        position = int(input(\"Choose a position: (1-9)\"))\n",
    "    \n",
    "    return position    "
   ]
  },
  {
   "cell_type": "code",
   "execution_count": 14,
   "id": "e12ff4b9",
   "metadata": {},
   "outputs": [],
   "source": [
    "def replay():\n",
    "    \n",
    "    choice = input(\"Play again? Enter Yes or No\")\n",
    "    \n",
    "    return choice == 'Yes'"
   ]
  },
  {
   "cell_type": "code",
   "execution_count": null,
   "id": "42f0bec8",
   "metadata": {},
   "outputs": [
    {
     "name": "stdout",
     "output_type": "stream",
     "text": [
      "Welcome to Tic Tac Toe\n"
     ]
    }
   ],
   "source": [
    "# WHILE  LOOP TO KEEP RUNNING THE GAME\n",
    "print('Welcome to Tic Tac Toe')\n",
    "\n",
    "while True:\n",
    "    \n",
    "    # PLAY THE GAME\n",
    "    \n",
    "    ## SET EVERYTHING UP (BOARD, WHOS FIRST, CHOOSE MARKERS X,O)\n",
    "    the_board = [' ']*10\n",
    "    player1_marker,player2_marker=player_input()\n",
    "    \n",
    "    turn = choose_first()\n",
    "    print(turn + '  will go first')\n",
    "    \n",
    "    play_game=input(\"Ready to play? Y or N\")\n",
    "    \n",
    "    if play_game=='Y':\n",
    "        game_on=True\n",
    "    else:\n",
    "        game_on=False\n",
    "    \n",
    "    ## GAME PLAY\n",
    "    \n",
    "    while game_on:\n",
    "        if turn=='Player 1':\n",
    "            \n",
    "            # Show the board\n",
    "            display_board(the_board)\n",
    "            # Choose a position\n",
    "            position = player_choice(the_board)\n",
    "            # Place the marker on the position\n",
    "            place_marker(the_board,player1_marker,position)\n",
    "            \n",
    "            # Check if they won\n",
    "            if win_check(the_board,player1_marker):\n",
    "                display_board(the_board)\n",
    "                print('PLAYER 1 HAS WON!')\n",
    "                game_on=False\n",
    "            else:\n",
    "                if full_board_check(the_board):\n",
    "                    display_board(the_board)\n",
    "                    print(\"TIE GAME!\")\n",
    "                    game_on=False\n",
    "                else:\n",
    "                    turn='Player 2'\n",
    "        else:\n",
    "             # Show the board\n",
    "            display_board(the_board)\n",
    "            # Choose a position\n",
    "            position = player_choice(the_board)\n",
    "            # Place the marker on the position\n",
    "            place_marker(the_board,player2_marker,position)\n",
    "            \n",
    "            # Check if they won\n",
    "            if win_check(the_board,player2_marker):\n",
    "                display_board(the_board)\n",
    "                print('PLAYER 2 HAS WON!')\n",
    "                game_on=False\n",
    "            else:\n",
    "                if full_board_check(the_board):\n",
    "                    display_board(the_board)\n",
    "                    print(\"TIE GAME!\")\n",
    "                    game_on=False\n",
    "                else:\n",
    "                    turn='Player 1'\n",
    "        \n",
    "    \n",
    "    ### PLAYER TWO TURN\n",
    "    \n",
    "    if not replay():\n",
    "        break\n",
    "\n",
    "# BREAK OUT OF THE WHILE LOOP ON replay()"
   ]
  },
  {
   "cell_type": "code",
   "execution_count": null,
   "id": "82c53050",
   "metadata": {},
   "outputs": [],
   "source": []
  }
 ],
 "metadata": {
  "kernelspec": {
   "display_name": "Python 3 (ipykernel)",
   "language": "python",
   "name": "python3"
  },
  "language_info": {
   "codemirror_mode": {
    "name": "ipython",
    "version": 3
   },
   "file_extension": ".py",
   "mimetype": "text/x-python",
   "name": "python",
   "nbconvert_exporter": "python",
   "pygments_lexer": "ipython3",
   "version": "3.11.5"
  }
 },
 "nbformat": 4,
 "nbformat_minor": 5
}
