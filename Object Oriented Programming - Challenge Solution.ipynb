{
 "cells": [
  {
   "cell_type": "code",
   "execution_count": 1,
   "id": "a87d4b3f",
   "metadata": {},
   "outputs": [],
   "source": [
    "class Account():\n",
    "    \n",
    "    def __init__(self,owner,balance=0):\n",
    "        \n",
    "        self.owner=owner\n",
    "        self.balance=balance\n",
    "        \n",
    "    def deposit(self,dep_amt):\n",
    "        \n",
    "        self.balance=self.balance+dep_amt\n",
    "        print(f\"Added {dep_amt} to the balance\")\n",
    "        \n",
    "    def withdrawal(self,wd_amt):\n",
    "        \n",
    "        if self.balance >=wd_amt:\n",
    "            self.balance = self.balance - wd_amt\n",
    "            print(\"Withdrawal accepted\")\n",
    "            \n",
    "        else:\n",
    "            print(\"Sorry not enough funds!\")\n",
    "            \n",
    "        def __str__(self):\n",
    "            return f\"Owner: {self.owner} \\nBalance: {self.balance}\""
   ]
  },
  {
   "cell_type": "code",
   "execution_count": 2,
   "id": "c338af34",
   "metadata": {},
   "outputs": [],
   "source": [
    "a=Account(\"Sam\",500)"
   ]
  },
  {
   "cell_type": "code",
   "execution_count": 3,
   "id": "929ccc5e",
   "metadata": {},
   "outputs": [
    {
     "data": {
      "text/plain": [
       "'Sam'"
      ]
     },
     "execution_count": 3,
     "metadata": {},
     "output_type": "execute_result"
    }
   ],
   "source": [
    "a.owner"
   ]
  },
  {
   "cell_type": "code",
   "execution_count": 4,
   "id": "309d76b5",
   "metadata": {},
   "outputs": [
    {
     "data": {
      "text/plain": [
       "500"
      ]
     },
     "execution_count": 4,
     "metadata": {},
     "output_type": "execute_result"
    }
   ],
   "source": [
    "a.balance"
   ]
  },
  {
   "cell_type": "code",
   "execution_count": 5,
   "id": "e489937c",
   "metadata": {},
   "outputs": [
    {
     "name": "stdout",
     "output_type": "stream",
     "text": [
      "<__main__.Account object at 0x000001738A7AB190>\n"
     ]
    }
   ],
   "source": [
    "print(a)"
   ]
  },
  {
   "cell_type": "code",
   "execution_count": 6,
   "id": "91384d74",
   "metadata": {},
   "outputs": [
    {
     "name": "stdout",
     "output_type": "stream",
     "text": [
      "Added 100 to the balance\n"
     ]
    }
   ],
   "source": [
    "a.deposit(100)"
   ]
  },
  {
   "cell_type": "code",
   "execution_count": null,
   "id": "2b3159f3",
   "metadata": {},
   "outputs": [],
   "source": []
  }
 ],
 "metadata": {
  "kernelspec": {
   "display_name": "Python 3 (ipykernel)",
   "language": "python",
   "name": "python3"
  },
  "language_info": {
   "codemirror_mode": {
    "name": "ipython",
    "version": 3
   },
   "file_extension": ".py",
   "mimetype": "text/x-python",
   "name": "python",
   "nbconvert_exporter": "python",
   "pygments_lexer": "ipython3",
   "version": "3.11.5"
  }
 },
 "nbformat": 4,
 "nbformat_minor": 5
}
