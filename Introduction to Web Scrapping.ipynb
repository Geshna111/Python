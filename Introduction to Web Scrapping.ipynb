{
 "cells": [
  {
   "cell_type": "code",
   "execution_count": 1,
   "id": "88b04212",
   "metadata": {},
   "outputs": [],
   "source": [
    "# HTML CONTAINS THE INFORMATION\n",
    "# CSS CONTAINS THE STYLING\n",
    "# WE CAN USE HTML AND CSS TAGS TO LOCATE SPECIFIC INFORMATION ON A PAGE"
   ]
  },
  {
   "cell_type": "code",
   "execution_count": null,
   "id": "0350f5ad",
   "metadata": {},
   "outputs": [],
   "source": []
  }
 ],
 "metadata": {
  "kernelspec": {
   "display_name": "Python 3 (ipykernel)",
   "language": "python",
   "name": "python3"
  },
  "language_info": {
   "codemirror_mode": {
    "name": "ipython",
    "version": 3
   },
   "file_extension": ".py",
   "mimetype": "text/x-python",
   "name": "python",
   "nbconvert_exporter": "python",
   "pygments_lexer": "ipython3",
   "version": "3.11.5"
  }
 },
 "nbformat": 4,
 "nbformat_minor": 5
}
