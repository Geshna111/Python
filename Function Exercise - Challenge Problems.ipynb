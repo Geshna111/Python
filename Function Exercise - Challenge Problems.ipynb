{
 "cells": [
  {
   "cell_type": "code",
   "execution_count": 1,
   "id": "76e2a7f4",
   "metadata": {},
   "outputs": [],
   "source": [
    "##Write a function that takes in a list of integers and returns True if it contains 007 in order"
   ]
  },
  {
   "cell_type": "code",
   "execution_count": 2,
   "id": "ff453d7e",
   "metadata": {},
   "outputs": [],
   "source": [
    "def spy_game(nums):\n",
    "    \n",
    "    code=[0,0,7,'x']\n",
    "    #[0,7,'x']\n",
    "    #[7,'x']\n",
    "    #['x'] length=1\n",
    "    for num in nums:\n",
    "        if num == code[0]:\n",
    "            code.pop(0)\n",
    "    \n",
    "    return len(code)==1"
   ]
  },
  {
   "cell_type": "code",
   "execution_count": 3,
   "id": "303f6bd0",
   "metadata": {},
   "outputs": [
    {
     "data": {
      "text/plain": [
       "True"
      ]
     },
     "execution_count": 3,
     "metadata": {},
     "output_type": "execute_result"
    }
   ],
   "source": [
    "spy_game([1,2,4,0,0,7,5])"
   ]
  },
  {
   "cell_type": "code",
   "execution_count": 4,
   "id": "b90d8aab",
   "metadata": {},
   "outputs": [
    {
     "data": {
      "text/plain": [
       "True"
      ]
     },
     "execution_count": 4,
     "metadata": {},
     "output_type": "execute_result"
    }
   ],
   "source": [
    "spy_game([1,0,2,4,0,5,7])"
   ]
  },
  {
   "cell_type": "code",
   "execution_count": 5,
   "id": "3105d20a",
   "metadata": {},
   "outputs": [
    {
     "data": {
      "text/plain": [
       "False"
      ]
     },
     "execution_count": 5,
     "metadata": {},
     "output_type": "execute_result"
    }
   ],
   "source": [
    "spy_game([1,7,2,0,4,5,0])"
   ]
  },
  {
   "cell_type": "code",
   "execution_count": 6,
   "id": "0bc0fa17",
   "metadata": {},
   "outputs": [],
   "source": [
    "##Write a function that returns the number of prime numbers that exist up to and including a given number"
   ]
  },
  {
   "cell_type": "code",
   "execution_count": 10,
   "id": "74b1cd59",
   "metadata": {},
   "outputs": [],
   "source": [
    "def count_primes(num):\n",
    "    \n",
    "    #Check for 0 or 1 input\n",
    "    if num<2:\n",
    "        return 0\n",
    "    \n",
    "    #2 or greater\n",
    "    \n",
    "    #Store our prime numbers\n",
    "    primes=[2]\n",
    "    #Counter going up to the input num\n",
    "    x=3\n",
    "    \n",
    "    #x is going through every number up to input num\n",
    "    while x<=num:\n",
    "        #check if x is prime\n",
    "        for y in range(3,x,2):\n",
    "            if x%y==0:\n",
    "                x+=2\n",
    "                break\n",
    "        else:\n",
    "            primes.append(x)\n",
    "            x+=2\n",
    "    print(primes)\n",
    "    return len(primes)"
   ]
  },
  {
   "cell_type": "code",
   "execution_count": 11,
   "id": "76fa3453",
   "metadata": {},
   "outputs": [
    {
     "name": "stdout",
     "output_type": "stream",
     "text": [
      "[2, 3, 5, 7, 11, 13, 17, 19, 23, 29, 31, 37, 41, 43, 47, 53, 59, 61, 67, 71, 73, 79, 83, 89, 97]\n"
     ]
    },
    {
     "data": {
      "text/plain": [
       "25"
      ]
     },
     "execution_count": 11,
     "metadata": {},
     "output_type": "execute_result"
    }
   ],
   "source": [
    "count_primes(100)"
   ]
  },
  {
   "cell_type": "code",
   "execution_count": null,
   "id": "c3bd04c2",
   "metadata": {},
   "outputs": [],
   "source": []
  }
 ],
 "metadata": {
  "kernelspec": {
   "display_name": "Python 3 (ipykernel)",
   "language": "python",
   "name": "python3"
  },
  "language_info": {
   "codemirror_mode": {
    "name": "ipython",
    "version": 3
   },
   "file_extension": ".py",
   "mimetype": "text/x-python",
   "name": "python",
   "nbconvert_exporter": "python",
   "pygments_lexer": "ipython3",
   "version": "3.11.5"
  }
 },
 "nbformat": 4,
 "nbformat_minor": 5
}
